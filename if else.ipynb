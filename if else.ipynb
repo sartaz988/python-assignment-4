{
 "cells": [
  {
   "cell_type": "markdown",
   "id": "fed70c33-f6f3-4db0-ae36-4de2ad84ff83",
   "metadata": {},
   "source": [
    "Q1. Write a program to calculate the electricity bill\n",
    "using only if statement? (accept number of unit from user)\n",
    "according to the following criteria:\n",
    "\n",
    "Unit Price\n",
    "First 100 units no charge\n",
    "Next 100 units Rs 5 per unit\n",
    "After 200 units Rs 10 per unit\n",
    "(For example, if input unit is 350 than total bill amount is Rs2000). Lets explain...\n",
    "For first 100 no charges\n",
    "Now you have 250 unit remaining\n",
    "100-200 you need to pay – 100*5 = 500\n",
    "Now 200-100 you need to pay 150*10 = 1500\n",
    "Total = 500+1500 = 2000"
   ]
  },
  {
   "cell_type": "code",
   "execution_count": 1,
   "id": "f30af40f-2f8f-42be-b515-215ffeb78a01",
   "metadata": {},
   "outputs": [
    {
     "name": "stdin",
     "output_type": "stream",
     "text": [
      "Enter number of units consumed:  350\n"
     ]
    },
    {
     "name": "stdout",
     "output_type": "stream",
     "text": [
      "Total electricity bill: ₹ 2000\n"
     ]
    }
   ],
   "source": [
    "units = int(input(\"Enter number of units consumed: \"))\n",
    "\n",
    "bill = 0\n",
    "\n",
    "if units <= 100:\n",
    "    bill = 0\n",
    "\n",
    "if units > 100 and units <= 200:\n",
    "    bill = (units - 100) * 5\n",
    "\n",
    "if units > 200:\n",
    "    bill = 100 * 5\n",
    "    bill = bill + (units - 200) * 10\n",
    "\n",
    "print(\"Total electricity bill: ₹\", bill)"
   ]
  },
  {
   "cell_type": "markdown",
   "id": "e021d96e-fd21-49cd-951e-8bfe087de05e",
   "metadata": {},
   "source": [
    "Q2. Write a program to accept percentage from the user and display\n",
    "the grade according to the following criteria:\n",
    "\n",
    "Marks Grade\n",
    "> 90 A\n",
    "> 80 and <= 90 B\n",
    ">= 60 and <= 80 C\n",
    "below 60 D"
   ]
  },
  {
   "cell_type": "code",
   "execution_count": 2,
   "id": "caf1afa3-257a-4c25-b8ae-e4f06ceb1eb7",
   "metadata": {},
   "outputs": [
    {
     "name": "stdin",
     "output_type": "stream",
     "text": [
      "Enter your percentage:  85\n"
     ]
    },
    {
     "name": "stdout",
     "output_type": "stream",
     "text": [
      "Grade: B\n"
     ]
    }
   ],
   "source": [
    "percentage = float(input(\"Enter your percentage: \"))\n",
    "\n",
    "\n",
    "if percentage > 90:\n",
    "    print(\"Grade: A\")\n",
    "\n",
    "if percentage > 80 and percentage <= 90:\n",
    "    print(\"Grade: B\")\n",
    "\n",
    "if percentage >= 60 and percentage <= 80:\n",
    "    print(\"Grade: C\")\n",
    "\n",
    "if percentage < 60:\n",
    "    print(\"Grade: D\")"
   ]
  },
  {
   "cell_type": "markdown",
   "id": "7bb09ab4-2627-4c68-b400-417cd77e62f2",
   "metadata": {},
   "source": [
    "Q3. Accept the age of 4 people and display the youngest one?"
   ]
  },
  {
   "cell_type": "code",
   "execution_count": 3,
   "id": "ba695e29-36a9-4358-a42f-708381274bbd",
   "metadata": {},
   "outputs": [
    {
     "name": "stdin",
     "output_type": "stream",
     "text": [
      "Enter age of person 1:  23\n",
      "Enter age of person 2:  19\n",
      "Enter age of person 3:  27\n",
      "Enter age of person 4:  21\n"
     ]
    },
    {
     "name": "stdout",
     "output_type": "stream",
     "text": [
      "The youngest age is: 19\n"
     ]
    }
   ],
   "source": [
    "age1 = int(input(\"Enter age of person 1: \"))\n",
    "age2 = int(input(\"Enter age of person 2: \"))\n",
    "age3 = int(input(\"Enter age of person 3: \"))\n",
    "age4 = int(input(\"Enter age of person 4: \"))\n",
    "\n",
    "\n",
    "youngest = age1\n",
    "\n",
    "\n",
    "if age2 < youngest:\n",
    "    youngest = age2\n",
    "\n",
    "if age3 < youngest:\n",
    "    youngest = age3\n",
    "\n",
    "if age4 < youngest:\n",
    "    youngest = age4\n",
    "\n",
    "\n",
    "print(\"The youngest age is:\", youngest)"
   ]
  },
  {
   "cell_type": "markdown",
   "id": "4b5ebd17-3b7a-408e-8b49-6c6f0c186dc6",
   "metadata": {},
   "source": [
    "Q4. A company decided to give bonus to employee\n",
    "according to following criteria:\n",
    "\n",
    "Time period of Service Bonus\n",
    "\n",
    "More than 10 years 10%\n",
    "\n",
    ">=6 and <=10 8%\n",
    "\n",
    "Less than 6 years 5%\n",
    "\n",
    "Ask user for their salary and years of service and print the\n",
    "net bonus amount?"
   ]
  },
  {
   "cell_type": "code",
   "execution_count": 4,
   "id": "a0a42430-cb69-4d54-a8cd-c2132bb8cacc",
   "metadata": {},
   "outputs": [
    {
     "name": "stdin",
     "output_type": "stream",
     "text": [
      "Enter your salary:  50000\n",
      "Enter your years of service:  7\n"
     ]
    },
    {
     "name": "stdout",
     "output_type": "stream",
     "text": [
      "Your bonus amount is: ₹ 4000.0\n"
     ]
    }
   ],
   "source": [
    "salary = float(input(\"Enter your salary: \"))\n",
    "years = int(input(\"Enter your years of service: \"))\n",
    "\n",
    "\n",
    "bonus = 0\n",
    "\n",
    "\n",
    "if years > 10:\n",
    "    bonus = salary * 0.10\n",
    "\n",
    "if years >= 6 and years <= 10:\n",
    "    bonus = salary * 0.08\n",
    "\n",
    "if years < 6:\n",
    "    bonus = salary * 0.05\n",
    "\n",
    "\n",
    "print(\"Your bonus amount is: ₹\", bonus)"
   ]
  },
  {
   "cell_type": "markdown",
   "id": "104159b6-42bd-4175-916f-e745484982c8",
   "metadata": {},
   "source": [
    "Q5. Accept three numbers from the user and\n",
    "display the second largest number?"
   ]
  },
  {
   "cell_type": "code",
   "execution_count": 5,
   "id": "4dad6eac-4ba2-41fc-8ca3-df3ce728bb27",
   "metadata": {},
   "outputs": [
    {
     "name": "stdin",
     "output_type": "stream",
     "text": [
      "Enter first number:  45\n",
      "Enter second number:  78\n",
      "Enter third number:  66\n"
     ]
    },
    {
     "name": "stdout",
     "output_type": "stream",
     "text": [
      "The second largest number is: 66\n"
     ]
    }
   ],
   "source": [
    "a = int(input(\"Enter first number: \"))\n",
    "b = int(input(\"Enter second number: \"))\n",
    "c = int(input(\"Enter third number: \"))\n",
    "\n",
    "\n",
    "if (a > b and a < c) or (a > c and a < b):\n",
    "    second_largest = a\n",
    "\n",
    "if (b > a and b < c) or (b > c and b < a):\n",
    "    second_largest = b\n",
    "\n",
    "if (c > a and c < b) or (c > b and c < a):\n",
    "    second_largest = c\n",
    "\n",
    "\n",
    "if a == b or b == c or a == c:\n",
    "    if a == b and b > c:\n",
    "        second_largest = a\n",
    "    elif a == c and c > b:\n",
    "        second_largest = a\n",
    "    elif b == c and c > a:\n",
    "        second_largest = b\n",
    "    else:\n",
    "        second_largest = a \n",
    "\n",
    "\n",
    "print(\"The second largest number is:\", second_largest)"
   ]
  },
  {
   "cell_type": "markdown",
   "id": "73e46244-e54b-41c2-b065-f64ec12fb1c1",
   "metadata": {},
   "source": [
    "Q6. Accept the marked price from the user and calculate\n",
    "the Net amount as (Marked Price – Discount) to pay\n",
    "according to following criteria:\n",
    "\n",
    "Marked Price Discount\n",
    ">10000 20%\n",
    ">7000 and <=10000 15%\n",
    "<=7000 10%"
   ]
  },
  {
   "cell_type": "code",
   "execution_count": 6,
   "id": "320cb5cd-aebe-41df-98e3-8e35ece923d9",
   "metadata": {},
   "outputs": [
    {
     "name": "stdin",
     "output_type": "stream",
     "text": [
      "Enter the marked price:  8500\n"
     ]
    },
    {
     "name": "stdout",
     "output_type": "stream",
     "text": [
      "Discount: ₹ 1275.0\n",
      "Net amount to pay: ₹ 7225.0\n"
     ]
    }
   ],
   "source": [
    "marked_price = float(input(\"Enter the marked price: \"))\n",
    "\n",
    "\n",
    "discount = 0\n",
    "\n",
    "\n",
    "if marked_price > 10000:\n",
    "    discount = marked_price * 0.20\n",
    "\n",
    "if marked_price > 7000 and marked_price <= 10000:\n",
    "    discount = marked_price * 0.15\n",
    "\n",
    "if marked_price <= 7000:\n",
    "    discount = marked_price * 0.10\n",
    "\n",
    "\n",
    "net_amount = marked_price - discount\n",
    "\n",
    "\n",
    "print(\"Discount: ₹\", discount)\n",
    "print(\"Net amount to pay: ₹\", net_amount)"
   ]
  },
  {
   "cell_type": "markdown",
   "id": "cba2c25e-603b-49b8-8d49-1624b32ddb23",
   "metadata": {},
   "source": [
    "Q7. Accept the marks of English, Math and Science,\n",
    "Social Studies Subject and display the stream allotted\n",
    "according to following:\n",
    "\n",
    "All Subjects more than 80 marks — Science Stream\n",
    "\n",
    "English >80 and Math, Science above 50 — Commerce Stream\n",
    "\n",
    "English > 80 and social studies > 80 — Humanities"
   ]
  },
  {
   "cell_type": "code",
   "execution_count": 7,
   "id": "8c956ad7-2f88-4a53-bc9d-7485dc55a7d2",
   "metadata": {},
   "outputs": [
    {
     "name": "stdin",
     "output_type": "stream",
     "text": [
      "Enter marks in English:  85\n",
      "Enter marks in Math:  90\n",
      "Enter marks in Science:  88\n",
      "Enter marks in Social Studies:  84\n"
     ]
    },
    {
     "name": "stdout",
     "output_type": "stream",
     "text": [
      "Stream Allotted: Science Stream\n",
      "Stream Allotted: Commerce Stream\n",
      "Stream Allotted: Humanities\n"
     ]
    }
   ],
   "source": [
    "english = int(input(\"Enter marks in English: \"))\n",
    "math = int(input(\"Enter marks in Math: \"))\n",
    "science = int(input(\"Enter marks in Science: \"))\n",
    "sst = int(input(\"Enter marks in Social Studies: \"))\n",
    "\n",
    "if english > 80 and math > 80 and science > 80 and sst > 80:\n",
    "    print(\"Stream Allotted: Science Stream\")\n",
    "\n",
    "if english > 80 and math > 50 and science > 50:\n",
    "    print(\"Stream Allotted: Commerce Stream\")\n",
    "\n",
    "if english > 80 and sst > 80:\n",
    "    print(\"Stream Allotted: Humanities\")"
   ]
  },
  {
   "cell_type": "markdown",
   "id": "c163d159-0bae-4fc2-ae19-911b37e21cd5",
   "metadata": {},
   "source": [
    "Q8. Write a program to display \"Hello\" if a number entered\n",
    "by user is a multiple of five, otherwise print \"Bye\"?"
   ]
  },
  {
   "cell_type": "code",
   "execution_count": 8,
   "id": "9a190b79-ec40-4af3-a30e-51577e86844e",
   "metadata": {},
   "outputs": [
    {
     "name": "stdin",
     "output_type": "stream",
     "text": [
      "Enter a number:  25\n"
     ]
    },
    {
     "name": "stdout",
     "output_type": "stream",
     "text": [
      "Hello\n"
     ]
    }
   ],
   "source": [
    "num = int(input(\"Enter a number: \"))\n",
    "\n",
    "if num % 5 == 0:\n",
    "    print(\"Hello\")\n",
    "\n",
    "if num % 5 != 0:\n",
    "    print(\"Bye\")"
   ]
  },
  {
   "cell_type": "markdown",
   "id": "9a3b7357-bf9f-420d-b766-d08b34e43ef6",
   "metadata": {},
   "source": [
    "Q9. Write a program to check whether the last digit of a number\n",
    "(entered by user) is divisible by 3 or not?"
   ]
  },
  {
   "cell_type": "code",
   "execution_count": 9,
   "id": "eeab0de2-585e-492e-afd4-2b8a482066c0",
   "metadata": {},
   "outputs": [
    {
     "name": "stdin",
     "output_type": "stream",
     "text": [
      "Enter a number:  127\n"
     ]
    },
    {
     "name": "stdout",
     "output_type": "stream",
     "text": [
      "The last digit is NOT divisible by 3.\n"
     ]
    }
   ],
   "source": [
    "num = int(input(\"Enter a number: \"))\n",
    "\n",
    "last_digit = num % 10\n",
    "\n",
    "if last_digit % 3 == 0:\n",
    "    print(\"The last digit is divisible by 3.\")\n",
    "\n",
    "if last_digit % 3 != 0:\n",
    "    print(\"The last digit is NOT divisible by 3.\")"
   ]
  },
  {
   "cell_type": "markdown",
   "id": "5c3f02d9-bd06-43a9-a365-26a3f488c911",
   "metadata": {},
   "source": [
    "Q10. Write a program to check whether a number entered\n",
    "is three-digit number or not?"
   ]
  },
  {
   "cell_type": "code",
   "execution_count": 10,
   "id": "9bf64314-22ff-403c-82e0-9944ff1ebf32",
   "metadata": {},
   "outputs": [
    {
     "name": "stdin",
     "output_type": "stream",
     "text": [
      "Enter a number:  345\n"
     ]
    },
    {
     "name": "stdout",
     "output_type": "stream",
     "text": [
      "It is a three-digit number.\n"
     ]
    }
   ],
   "source": [
    "num = int(input(\"Enter a number: \"))\n",
    "\n",
    "if num >= 100 and num <= 999:\n",
    "    print(\"It is a three-digit number.\")\n",
    "\n",
    "if num <= -100 and num >= -999:\n",
    "    print(\"It is a three-digit number.\")\n",
    "\n",
    "if (num > -100 and num < 100):\n",
    "    print(\"It is NOT a three-digit number.\")"
   ]
  },
  {
   "cell_type": "code",
   "execution_count": null,
   "id": "490071c1-8d72-4d0a-89d6-9aafc1be015d",
   "metadata": {},
   "outputs": [],
   "source": []
  }
 ],
 "metadata": {
  "kernelspec": {
   "display_name": "Python 3 (ipykernel)",
   "language": "python",
   "name": "python3"
  },
  "language_info": {
   "codemirror_mode": {
    "name": "ipython",
    "version": 3
   },
   "file_extension": ".py",
   "mimetype": "text/x-python",
   "name": "python",
   "nbconvert_exporter": "python",
   "pygments_lexer": "ipython3",
   "version": "3.10.0"
  }
 },
 "nbformat": 4,
 "nbformat_minor": 5
}
